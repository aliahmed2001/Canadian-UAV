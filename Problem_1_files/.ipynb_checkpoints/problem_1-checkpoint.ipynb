{
 "cells": [
  {
   "cell_type": "code",
   "execution_count": 1,
   "id": "b0fe82a3",
   "metadata": {},
   "outputs": [],
   "source": [
    "import pandas as pd"
   ]
  },
  {
   "cell_type": "code",
   "execution_count": 2,
   "id": "358b760d",
   "metadata": {},
   "outputs": [
    {
     "data": {
      "text/html": [
       "<div>\n",
       "<style scoped>\n",
       "    .dataframe tbody tr th:only-of-type {\n",
       "        vertical-align: middle;\n",
       "    }\n",
       "\n",
       "    .dataframe tbody tr th {\n",
       "        vertical-align: top;\n",
       "    }\n",
       "\n",
       "    .dataframe thead th {\n",
       "        text-align: right;\n",
       "    }\n",
       "</style>\n",
       "<table border=\"1\" class=\"dataframe\">\n",
       "  <thead>\n",
       "    <tr style=\"text-align: right;\">\n",
       "      <th></th>\n",
       "      <th>Id</th>\n",
       "      <th>Latitude</th>\n",
       "      <th>Longitude</th>\n",
       "    </tr>\n",
       "  </thead>\n",
       "  <tbody>\n",
       "    <tr>\n",
       "      <th>0</th>\n",
       "      <td>763</td>\n",
       "      <td>-62.143605</td>\n",
       "      <td>-69.059316</td>\n",
       "    </tr>\n",
       "    <tr>\n",
       "      <th>1</th>\n",
       "      <td>307</td>\n",
       "      <td>105.795136</td>\n",
       "      <td>-65.706768</td>\n",
       "    </tr>\n",
       "    <tr>\n",
       "      <th>2</th>\n",
       "      <td>258</td>\n",
       "      <td>89.168082</td>\n",
       "      <td>133.709759</td>\n",
       "    </tr>\n",
       "    <tr>\n",
       "      <th>3</th>\n",
       "      <td>235</td>\n",
       "      <td>-101.836889</td>\n",
       "      <td>-120.809672</td>\n",
       "    </tr>\n",
       "    <tr>\n",
       "      <th>4</th>\n",
       "      <td>56</td>\n",
       "      <td>73.712477</td>\n",
       "      <td>116.057380</td>\n",
       "    </tr>\n",
       "    <tr>\n",
       "      <th>5</th>\n",
       "      <td>962</td>\n",
       "      <td>59.827939</td>\n",
       "      <td>-100.161487</td>\n",
       "    </tr>\n",
       "    <tr>\n",
       "      <th>6</th>\n",
       "      <td>895</td>\n",
       "      <td>-64.692248</td>\n",
       "      <td>148.235307</td>\n",
       "    </tr>\n",
       "    <tr>\n",
       "      <th>7</th>\n",
       "      <td>440</td>\n",
       "      <td>-71.746504</td>\n",
       "      <td>33.095026</td>\n",
       "    </tr>\n",
       "    <tr>\n",
       "      <th>8</th>\n",
       "      <td>836</td>\n",
       "      <td>71.329149</td>\n",
       "      <td>75.031543</td>\n",
       "    </tr>\n",
       "    <tr>\n",
       "      <th>9</th>\n",
       "      <td>219</td>\n",
       "      <td>-74.186856</td>\n",
       "      <td>-122.694218</td>\n",
       "    </tr>\n",
       "    <tr>\n",
       "      <th>10</th>\n",
       "      <td>205</td>\n",
       "      <td>-36.798404</td>\n",
       "      <td>133.815085</td>\n",
       "    </tr>\n",
       "    <tr>\n",
       "      <th>11</th>\n",
       "      <td>196</td>\n",
       "      <td>-139.897192</td>\n",
       "      <td>9.215587</td>\n",
       "    </tr>\n",
       "    <tr>\n",
       "      <th>12</th>\n",
       "      <td>534</td>\n",
       "      <td>-137.904459</td>\n",
       "      <td>42.535486</td>\n",
       "    </tr>\n",
       "    <tr>\n",
       "      <th>13</th>\n",
       "      <td>80</td>\n",
       "      <td>-60.934476</td>\n",
       "      <td>50.661644</td>\n",
       "    </tr>\n",
       "    <tr>\n",
       "      <th>14</th>\n",
       "      <td>543</td>\n",
       "      <td>-88.603824</td>\n",
       "      <td>42.820766</td>\n",
       "    </tr>\n",
       "  </tbody>\n",
       "</table>\n",
       "</div>"
      ],
      "text/plain": [
       "     Id    Latitude   Longitude\n",
       "0   763  -62.143605  -69.059316\n",
       "1   307  105.795136  -65.706768\n",
       "2   258   89.168082  133.709759\n",
       "3   235 -101.836889 -120.809672\n",
       "4    56   73.712477  116.057380\n",
       "5   962   59.827939 -100.161487\n",
       "6   895  -64.692248  148.235307\n",
       "7   440  -71.746504   33.095026\n",
       "8   836   71.329149   75.031543\n",
       "9   219  -74.186856 -122.694218\n",
       "10  205  -36.798404  133.815085\n",
       "11  196 -139.897192    9.215587\n",
       "12  534 -137.904459   42.535486\n",
       "13   80  -60.934476   50.661644\n",
       "14  543  -88.603824   42.820766"
      ]
     },
     "execution_count": 2,
     "metadata": {},
     "output_type": "execute_result"
    }
   ],
   "source": [
    "data_a = pd.read_csv('problem1.csv') \n",
    "data_a"
   ]
  },
  {
   "cell_type": "code",
   "execution_count": 3,
   "id": "2378d978",
   "metadata": {},
   "outputs": [
    {
     "data": {
      "text/html": [
       "<div>\n",
       "<style scoped>\n",
       "    .dataframe tbody tr th:only-of-type {\n",
       "        vertical-align: middle;\n",
       "    }\n",
       "\n",
       "    .dataframe tbody tr th {\n",
       "        vertical-align: top;\n",
       "    }\n",
       "\n",
       "    .dataframe thead th {\n",
       "        text-align: right;\n",
       "    }\n",
       "</style>\n",
       "<table border=\"1\" class=\"dataframe\">\n",
       "  <thead>\n",
       "    <tr style=\"text-align: right;\">\n",
       "      <th></th>\n",
       "      <th>Id</th>\n",
       "      <th>Latitude</th>\n",
       "      <th>Longitude</th>\n",
       "    </tr>\n",
       "  </thead>\n",
       "  <tbody>\n",
       "    <tr>\n",
       "      <th>0</th>\n",
       "      <td>534</td>\n",
       "      <td>-137.904459</td>\n",
       "      <td>42.535486</td>\n",
       "    </tr>\n",
       "    <tr>\n",
       "      <th>1</th>\n",
       "      <td>911</td>\n",
       "      <td>146.068455</td>\n",
       "      <td>112.579091</td>\n",
       "    </tr>\n",
       "    <tr>\n",
       "      <th>2</th>\n",
       "      <td>895</td>\n",
       "      <td>-64.692248</td>\n",
       "      <td>148.235307</td>\n",
       "    </tr>\n",
       "    <tr>\n",
       "      <th>3</th>\n",
       "      <td>56</td>\n",
       "      <td>73.712477</td>\n",
       "      <td>116.057380</td>\n",
       "    </tr>\n",
       "    <tr>\n",
       "      <th>4</th>\n",
       "      <td>219</td>\n",
       "      <td>-74.186856</td>\n",
       "      <td>-122.694218</td>\n",
       "    </tr>\n",
       "    <tr>\n",
       "      <th>5</th>\n",
       "      <td>246</td>\n",
       "      <td>-92.920535</td>\n",
       "      <td>126.663847</td>\n",
       "    </tr>\n",
       "    <tr>\n",
       "      <th>6</th>\n",
       "      <td>962</td>\n",
       "      <td>59.827939</td>\n",
       "      <td>-100.161487</td>\n",
       "    </tr>\n",
       "    <tr>\n",
       "      <th>7</th>\n",
       "      <td>307</td>\n",
       "      <td>105.795136</td>\n",
       "      <td>-65.706768</td>\n",
       "    </tr>\n",
       "    <tr>\n",
       "      <th>8</th>\n",
       "      <td>440</td>\n",
       "      <td>-71.746504</td>\n",
       "      <td>33.095026</td>\n",
       "    </tr>\n",
       "    <tr>\n",
       "      <th>9</th>\n",
       "      <td>709</td>\n",
       "      <td>-54.473819</td>\n",
       "      <td>149.652170</td>\n",
       "    </tr>\n",
       "    <tr>\n",
       "      <th>10</th>\n",
       "      <td>763</td>\n",
       "      <td>-62.143606</td>\n",
       "      <td>-69.059316</td>\n",
       "    </tr>\n",
       "    <tr>\n",
       "      <th>11</th>\n",
       "      <td>543</td>\n",
       "      <td>-88.603824</td>\n",
       "      <td>42.820766</td>\n",
       "    </tr>\n",
       "    <tr>\n",
       "      <th>12</th>\n",
       "      <td>836</td>\n",
       "      <td>71.329149</td>\n",
       "      <td>75.031543</td>\n",
       "    </tr>\n",
       "    <tr>\n",
       "      <th>13</th>\n",
       "      <td>205</td>\n",
       "      <td>-36.798404</td>\n",
       "      <td>133.815085</td>\n",
       "    </tr>\n",
       "    <tr>\n",
       "      <th>14</th>\n",
       "      <td>258</td>\n",
       "      <td>89.168081</td>\n",
       "      <td>133.709759</td>\n",
       "    </tr>\n",
       "  </tbody>\n",
       "</table>\n",
       "</div>"
      ],
      "text/plain": [
       "     Id    Latitude   Longitude\n",
       "0   534 -137.904459   42.535486\n",
       "1   911  146.068455  112.579091\n",
       "2   895  -64.692248  148.235307\n",
       "3    56   73.712477  116.057380\n",
       "4   219  -74.186856 -122.694218\n",
       "5   246  -92.920535  126.663847\n",
       "6   962   59.827939 -100.161487\n",
       "7   307  105.795136  -65.706768\n",
       "8   440  -71.746504   33.095026\n",
       "9   709  -54.473819  149.652170\n",
       "10  763  -62.143606  -69.059316\n",
       "11  543  -88.603824   42.820766\n",
       "12  836   71.329149   75.031543\n",
       "13  205  -36.798404  133.815085\n",
       "14  258   89.168081  133.709759"
      ]
     },
     "execution_count": 3,
     "metadata": {},
     "output_type": "execute_result"
    }
   ],
   "source": [
    "data_b = pd.read_json('problem1.json') \n",
    "data_b"
   ]
  },
  {
   "cell_type": "code",
   "execution_count": 4,
   "id": "91c82a11",
   "metadata": {},
   "outputs": [
    {
     "name": "stdout",
     "output_type": "stream",
     "text": [
      "\n",
      "\n",
      "\n",
      "\n",
      "\n",
      "\n",
      "\n",
      "\n",
      "\n",
      "\n",
      "\n",
      "\n"
     ]
    },
    {
     "data": {
      "text/plain": [
       "([763.0,\n",
       "  307.0,\n",
       "  258.0,\n",
       "  56.0,\n",
       "  962.0,\n",
       "  895.0,\n",
       "  440.0,\n",
       "  836.0,\n",
       "  219.0,\n",
       "  205.0,\n",
       "  534.0,\n",
       "  543.0],\n",
       " [763.0,\n",
       "  307.0,\n",
       "  258.0,\n",
       "  56.0,\n",
       "  962.0,\n",
       "  895.0,\n",
       "  440.0,\n",
       "  836.0,\n",
       "  219.0,\n",
       "  205.0,\n",
       "  534.0,\n",
       "  543.0])"
      ]
     },
     "execution_count": 4,
     "metadata": {},
     "output_type": "execute_result"
    }
   ],
   "source": [
    "sen1 =[]\n",
    "sen2 =[]\n",
    "for r in range(len(data_a)):\n",
    "    for t in range(len(data_b)):\n",
    "        if data_a.iloc[r].Latitude.round() == data_b.iloc[t].Latitude.round():\n",
    "            if data_a.iloc[r].Longitude.round() == data_b.iloc[t].Longitude.round():\n",
    "                sen1.append(data_a.iloc[r].Id)\n",
    "                sen2.append(data_b.iloc[t].Id)\n",
    "                print()\n",
    "\n",
    "sen1,sen2"
   ]
  },
  {
   "cell_type": "code",
   "execution_count": 5,
   "id": "6bce3e76",
   "metadata": {},
   "outputs": [
    {
     "name": "stdout",
     "output_type": "stream",
     "text": [
      "\n",
      "\n",
      "\n",
      "\n",
      "\n",
      "\n",
      "\n",
      "\n",
      "\n",
      "\n",
      "\n",
      "\n"
     ]
    },
    {
     "data": {
      "text/plain": [
       "[235.0, 196.0, 80.0]"
      ]
     },
     "execution_count": 5,
     "metadata": {},
     "output_type": "execute_result"
    }
   ],
   "source": [
    "csv = []\n",
    "ones_a = []\n",
    "for w in range(len(data_a)):\n",
    "    if data_a.iloc[w].Id in sen1:\n",
    "        print()\n",
    "    else:\n",
    "        csv.append(data_a.iloc[w].Id)\n",
    "        ones_a.append(-1)\n",
    "csv"
   ]
  },
  {
   "cell_type": "code",
   "execution_count": 6,
   "id": "b341e14a",
   "metadata": {},
   "outputs": [
    {
     "data": {
      "text/plain": [
       "[(235.0, -1), (196.0, -1), (80.0, -1)]"
      ]
     },
     "execution_count": 6,
     "metadata": {},
     "output_type": "execute_result"
    }
   ],
   "source": [
    "rows, cols = (len(csv), 2)\n",
    "part_a = [[0]*cols]*rows\n",
    "for e in range(len(csv)):\n",
    "    part_a[e]=csv[e],ones_a[e] \n",
    "    \n",
    "part_a"
   ]
  },
  {
   "cell_type": "code",
   "execution_count": 7,
   "id": "682e7582",
   "metadata": {},
   "outputs": [
    {
     "name": "stdout",
     "output_type": "stream",
     "text": [
      "\n",
      "\n",
      "\n",
      "\n",
      "\n",
      "\n",
      "\n",
      "\n",
      "\n",
      "\n",
      "\n",
      "\n"
     ]
    },
    {
     "data": {
      "text/plain": [
       "[911.0, 246.0, 709.0]"
      ]
     },
     "execution_count": 7,
     "metadata": {},
     "output_type": "execute_result"
    }
   ],
   "source": [
    "json = []\n",
    "ones_b = []\n",
    "for w in range(len(data_a)):\n",
    "    if data_b.iloc[w].Id in sen2:\n",
    "        print()\n",
    "    else:\n",
    "        json.append(data_b.iloc[w].Id)\n",
    "        ones_b.append(-1)\n",
    "json"
   ]
  },
  {
   "cell_type": "code",
   "execution_count": 8,
   "id": "9ae7abd5",
   "metadata": {},
   "outputs": [
    {
     "data": {
      "text/plain": [
       "[(-1, 911.0), (-1, 246.0), (-1, 709.0)]"
      ]
     },
     "execution_count": 8,
     "metadata": {},
     "output_type": "execute_result"
    }
   ],
   "source": [
    "rows, cols = (len(csv), 2)\n",
    "part_b = [[0]*cols]*rows\n",
    "for e in range(len(json)):\n",
    "    part_b[e]=ones_b[e],json[e] \n",
    "    \n",
    "part_b"
   ]
  },
  {
   "cell_type": "code",
   "execution_count": 9,
   "id": "18a52a08",
   "metadata": {},
   "outputs": [
    {
     "data": {
      "text/plain": [
       "12"
      ]
     },
     "execution_count": 9,
     "metadata": {},
     "output_type": "execute_result"
    }
   ],
   "source": [
    "rows, cols = (len(sen1), 2)\n",
    "arr = [[0]*cols]*rows\n",
    "len(sen1)"
   ]
  },
  {
   "cell_type": "code",
   "execution_count": 10,
   "id": "a157c675",
   "metadata": {},
   "outputs": [
    {
     "data": {
      "text/plain": [
       "[(763.0, 763.0),\n",
       " (307.0, 307.0),\n",
       " (258.0, 258.0),\n",
       " (56.0, 56.0),\n",
       " (962.0, 962.0),\n",
       " (895.0, 895.0),\n",
       " (440.0, 440.0),\n",
       " (836.0, 836.0),\n",
       " (219.0, 219.0),\n",
       " (205.0, 205.0),\n",
       " (534.0, 534.0),\n",
       " (543.0, 543.0)]"
      ]
     },
     "execution_count": 10,
     "metadata": {},
     "output_type": "execute_result"
    }
   ],
   "source": [
    "for e in range(len(sen1)):\n",
    "    arr[e]=sen1[e],sen2[e] \n",
    "    \n",
    "arr\n",
    "    "
   ]
  },
  {
   "cell_type": "code",
   "execution_count": 11,
   "id": "b9c75850",
   "metadata": {},
   "outputs": [],
   "source": [
    "for r in range(len(part_a)):\n",
    "    arr.append(part_a[r])\n",
    "    \n",
    "for r in range(len(part_b)):\n",
    "    arr.append(part_b[r])\n",
    "    \n",
    "\n"
   ]
  },
  {
   "cell_type": "code",
   "execution_count": 12,
   "id": "0cf8c0bb",
   "metadata": {},
   "outputs": [
    {
     "name": "stdout",
     "output_type": "stream",
     "text": [
      "763.0 : 763.0\n",
      "307.0 : 307.0\n",
      "258.0 : 258.0\n",
      "56.0 : 56.0\n",
      "962.0 : 962.0\n",
      "895.0 : 895.0\n",
      "440.0 : 440.0\n",
      "836.0 : 836.0\n",
      "219.0 : 219.0\n",
      "205.0 : 205.0\n",
      "534.0 : 534.0\n",
      "543.0 : 543.0\n",
      "235.0 : -1\n",
      "196.0 : -1\n",
      "80.0 : -1\n",
      "-1 : 911.0\n",
      "-1 : 246.0\n",
      "-1 : 709.0\n"
     ]
    }
   ],
   "source": [
    "for y in range(len(arr)):\n",
    "    print(arr[y][0],':',arr[y][1])"
   ]
  },
  {
   "cell_type": "code",
   "execution_count": 13,
   "id": "8725a546",
   "metadata": {},
   "outputs": [],
   "source": [
    "sourceFile = open('solution_1.txt', 'w')\n",
    "\n",
    "for y in range(len(arr)):\n",
    "    print(arr[y][0],':',arr[y][1], file = sourceFile)\n",
    "\n",
    "    \n",
    "sourceFile.close()"
   ]
  }
 ],
 "metadata": {
  "kernelspec": {
   "display_name": "Python 3",
   "language": "python",
   "name": "python3"
  },
  "language_info": {
   "codemirror_mode": {
    "name": "ipython",
    "version": 3
   },
   "file_extension": ".py",
   "mimetype": "text/x-python",
   "name": "python",
   "nbconvert_exporter": "python",
   "pygments_lexer": "ipython3",
   "version": "3.8.8"
  }
 },
 "nbformat": 4,
 "nbformat_minor": 5
}
